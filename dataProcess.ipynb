{
 "cells": [
  {
   "cell_type": "code",
   "execution_count": 1,
   "metadata": {},
   "outputs": [],
   "source": [
    "import numpy as np\n",
    "import pandas as pd"
   ]
  },
  {
   "cell_type": "code",
   "execution_count": 10,
   "metadata": {},
   "outputs": [],
   "source": [
    "# add 0.25 to eda\n",
    "for test_type in ['Midterm 1', 'Midterm 2', 'Final']:\n",
    "    for i in range(1, 11):\n",
    "        test_eda = pd.read_csv(f'Data/S{i}_processed/{test_type}/EDA.csv')[['EDA', 'timestamp', 'period']]\n",
    "        test_eda['time_seconds'] = (test_eda.index)*0.25\n",
    "        test_eda.to_csv(f'Data/S{i}_processed/{test_type}/EDA.csv')\n",
    "\n",
    "        test_hr = pd.read_csv(f'Data/S{i}_processed/{test_type}/HR.csv')[['HR', 'timestamp', 'period']]\n",
    "        test_hr['time_seconds'] = test_hr.index\n",
    "        test_hr.to_csv(f'Data/S{i}_processed/{test_type}/HR.csv')"
   ]
  }
 ],
 "metadata": {
  "kernelspec": {
   "display_name": "Python 3",
   "language": "python",
   "name": "python3"
  },
  "language_info": {
   "codemirror_mode": {
    "name": "ipython",
    "version": 3
   },
   "file_extension": ".py",
   "mimetype": "text/x-python",
   "name": "python",
   "nbconvert_exporter": "python",
   "pygments_lexer": "ipython3",
   "version": "3.11.4"
  }
 },
 "nbformat": 4,
 "nbformat_minor": 2
}
