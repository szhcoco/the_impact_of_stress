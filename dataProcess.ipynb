{
 "cells": [
  {
   "cell_type": "code",
   "execution_count": 6,
   "metadata": {},
   "outputs": [],
   "source": [
    "import numpy as np\n",
    "import pandas as pd"
   ]
  },
  {
   "cell_type": "code",
   "execution_count": 10,
   "metadata": {},
   "outputs": [],
   "source": [
    "# add 0.25 to eda\n",
    "for test_type in ['Midterm 1', 'Midterm 2', 'Final']:\n",
    "    for i in range(1, 11):\n",
    "        test_eda = pd.read_csv(f'Data/S{i}_processed/{test_type}/EDA.csv')[['EDA', 'timestamp', 'period']]\n",
    "        test_eda['time_seconds'] = (test_eda.index)*0.25\n",
    "        test_eda.to_csv(f'Data/S{i}_processed/{test_type}/EDA.csv')\n",
    "\n",
    "        test_hr = pd.read_csv(f'Data/S{i}_processed/{test_type}/HR.csv')[['HR', 'timestamp', 'period']]\n",
    "        test_hr['time_seconds'] = test_hr.index\n",
    "        test_hr.to_csv(f'Data/S{i}_processed/{test_type}/HR.csv')"
   ]
  },
  {
   "cell_type": "code",
   "execution_count": 7,
   "metadata": {},
   "outputs": [],
   "source": [
    "# add grade dataset\n",
    "grades = pd.DataFrame({\n",
    "    'students': ['S01', 'S02','S03','S04','S05','S06','S07','S08','S09','S10'],\n",
    "    'Midterm_1': [78, 82, 77, 75, 67, 71, 64, 92, 80, 89],\n",
    "    'Midterm_2': [82, 85, 90, 77, 77, 64, 33, 88, 39, 64],\n",
    "    'Final': [182, 180, 188, 149, 157, 175, 110, 184, 126, 116],\n",
    "})\n",
    "\n",
    "grades\n",
    "grades.to_csv('grades.csv', index=False)"
   ]
  },
  {
   "cell_type": "code",
   "execution_count": 6,
   "metadata": {},
   "outputs": [],
   "source": [
    "for test_type in ['Midterm 1', 'Midterm 2', 'Final']:\n",
    "    for i in range(1, 11):\n",
    "        ACC = pd.read_csv(f'dataset/S{i}_processed/{test_type}/ACC.csv')[['x', 'y', 'z', 'timestamp', 'period', 'time_seconds']]\n",
    "        ACC['ACC'] = np.sqrt(np.square(ACC['x'])+np.square(ACC['y'])+np.square(ACC['z']))\n",
    "        ACC.to_csv(f'dataset/S{i}_processed/{test_type}/ACC.csv', index=False)"
   ]
  }
 ],
 "metadata": {
  "kernelspec": {
   "display_name": "Python 3",
   "language": "python",
   "name": "python3"
  },
  "language_info": {
   "codemirror_mode": {
    "name": "ipython",
    "version": 3
   },
   "file_extension": ".py",
   "mimetype": "text/x-python",
   "name": "python",
   "nbconvert_exporter": "python",
   "pygments_lexer": "ipython3",
   "version": "3.11.4"
  }
 },
 "nbformat": 4,
 "nbformat_minor": 2
}
