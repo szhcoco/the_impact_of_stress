{
 "cells": [
  {
   "cell_type": "code",
   "execution_count": 129,
   "id": "b8a7328e-bbac-4ecd-8279-1f3b73579a6e",
   "metadata": {},
   "outputs": [],
   "source": [
    "import numpy as np\n",
    "import pandas as pd\n",
    "from datetime import datetime, timedelta\n",
    "import pytz"
   ]
  },
  {
   "cell_type": "code",
   "execution_count": 37,
   "id": "6c0ea5e4-6c2b-42a8-bf13-de8d946f368c",
   "metadata": {},
   "outputs": [],
   "source": [
    "data_dir = ['S'+ str(i) for i in range(1, 11)]\n",
    "data_mt1_dir = [data_path + \"/Midterm 1\" for data_path in data_dir]\n",
    "data_mt2_dir = [data_path + \"/Midterm 2\" for data_path in data_dir]\n",
    "data_final_dir = [data_path + \"/Final\" for data_path in data_dir]"
   ]
  },
  {
   "cell_type": "code",
   "execution_count": 95,
   "id": "891d2573-20b8-4412-b3e7-a548c9fef36c",
   "metadata": {},
   "outputs": [
    {
     "name": "stdout",
     "output_type": "stream",
     "text": [
      "Unix timestamp 1539435366 converts to: 07:56:06\n"
     ]
    },
    {
     "name": "stderr",
     "output_type": "stream",
     "text": [
      "C:\\Users\\asus\\AppData\\Local\\Temp\\ipykernel_37016\\378443653.py:13: DeprecationWarning: datetime.datetime.utcfromtimestamp() is deprecated and scheduled for removal in a future version. Use timezone-aware objects to represent datetimes in UTC: datetime.datetime.fromtimestamp(timestamp, datetime.UTC).\n",
      "  utc_time = datetime.utcfromtimestamp(unix_timestamp)\n"
     ]
    }
   ],
   "source": [
    "def convert_unix_to_readable(unix_timestamp, timezone='America/Chicago'):\n",
    "    \"\"\"\n",
    "    Convert a Unix timestamp to a human-readable datetime in the specified timezone\n",
    "    \n",
    "    Parameters:\n",
    "    unix_timestamp (int or float): Unix timestamp in seconds\n",
    "    timezone (str): Timezone name (default: 'America/Chicago' for CT/CDT)\n",
    "    \n",
    "    Returns:\n",
    "    str: Human-readable datetime string\n",
    "    \"\"\"\n",
    "    # Convert Unix timestamp to UTC datetime\n",
    "    utc_time = datetime.utcfromtimestamp(unix_timestamp)\n",
    "    \n",
    "    # Make the datetime timezone-aware (UTC)\n",
    "    utc_time = pytz.utc.localize(utc_time)\n",
    "    \n",
    "    # Convert to Central Time\n",
    "    central_tz = pytz.timezone(timezone)\n",
    "    central_time = utc_time.astimezone(central_tz)\n",
    "    \n",
    "    # Format the datetime in a human-readable format\n",
    "    readable_time = central_time.strftime('%H:%M:%S')\n",
    "    \n",
    "    return readable_time\n",
    "\n",
    "# Example usage\n",
    "unix_timestamp = 1539435366  # This is September 30, 2021, 7:00:00 PM CDT\n",
    "readable_datetime = convert_unix_to_readable(unix_timestamp)\n",
    "print(f\"Unix timestamp {unix_timestamp} converts to: {readable_datetime}\")\n",
    "\n",
    "# # If your timestamp is already in CT/CDT (not UTC)\n",
    "# # You would need to adjust the conversion differently\n",
    "# def convert_local_unix_to_readable(unix_timestamp, timezone='America/Chicago'):\n",
    "#     \"\"\"Convert a Unix timestamp that's already in local time to readable format\"\"\"\n",
    "#     local_tz = pytz.timezone(timezone)\n",
    "#     local_time = datetime.fromtimestamp(unix_timestamp, local_tz)\n",
    "#     return local_time.strftime('%Y-%m-%d %H:%M:%S')\n",
    "\n",
    "# # Example with timestamp already in CT/CDT\n",
    "# local_readable = convert_local_unix_to_readable(unix_timestamp)\n",
    "# print(f\"If timestamp is already in CT/CDT: {local_readable}\")"
   ]
  },
  {
   "cell_type": "code",
   "execution_count": 171,
   "id": "204c53ed-9e8d-481a-9824-4eb5ab8f0ce3",
   "metadata": {},
   "outputs": [],
   "source": [
    "def convert_time(df, freq, start):\n",
    "    start = pd.to_datetime(start, format=\"%H:%M:%S\").strftime(\"%H:%M:%S\")\n",
    "    print(start)\n",
    "    df['timestamp'] = df.index.map(lambda seconds: start + timedelta(seconds=seconds / freq))\n",
    "    return df\n",
    "\n",
    "def process(dir, midterm=True):\n",
    "    start = \"09:00:00\"\n",
    "    end = \"10:30:00\" if midterm else \"12:00:00\"\n",
    "    \n",
    "    eda = pd.read_csv(dir+\"/EDA.csv\")\n",
    "    hr = pd.read_csv(dir+\"/HR.csv\")\n",
    "    eda_start = convert_unix_to_readable(float(eda.columns[0]))\n",
    "    hr_start = convert_unix_to_readable(float(hr.columns[0]))\n",
    "    eda_freq = int(eda.iloc[0, 0])\n",
    "    hr_freq = int(hr.iloc[0, 0])\n",
    "    eda = eda.iloc[1:, :].reset_index(drop=True)\n",
    "    hr = hr.iloc[1:, :].reset_index(drop=True)\n",
    "    eda.columns = ['eda']\n",
    "    hr.columns = ['hr']\n",
    "    \n",
    "    eda = convert_time(eda, eda_freq, eda_start)\n",
    "    hr = convert_time(hr, hr_freq, hr_start)\n",
    "\n",
    "    print(eda_start, hr_start)\n",
    "    print(eda, hr)"
   ]
  },
  {
   "cell_type": "code",
   "execution_count": 173,
   "id": "d9928474-3dc9-4435-956f-b4069a750ab9",
   "metadata": {},
   "outputs": [
    {
     "name": "stdout",
     "output_type": "stream",
     "text": [
      "07:56:06\n",
      "07:56:16\n",
      "07:56:06 07:56:16\n",
      "            eda               timestamp\n",
      "0      0.000000 1900-01-01 07:56:06.000\n",
      "1      0.002563 1900-01-01 07:56:06.250\n",
      "2      0.019221 1900-01-01 07:56:06.500\n",
      "3      0.021784 1900-01-01 07:56:06.750\n",
      "4      0.023065 1900-01-01 07:56:07.000\n",
      "...         ...                     ...\n",
      "44707  0.025628 1900-01-01 11:02:22.750\n",
      "44708  0.024347 1900-01-01 11:02:23.000\n",
      "44709  0.024347 1900-01-01 11:02:23.250\n",
      "44710  0.025628 1900-01-01 11:02:23.500\n",
      "44711  0.024347 1900-01-01 11:02:23.750\n",
      "\n",
      "[44712 rows x 2 columns]            hr           timestamp\n",
      "0       84.00 1900-01-01 07:56:16\n",
      "1       85.00 1900-01-01 07:56:17\n",
      "2       86.00 1900-01-01 07:56:18\n",
      "3       86.75 1900-01-01 07:56:19\n",
      "4       87.40 1900-01-01 07:56:20\n",
      "...       ...                 ...\n",
      "11164  139.12 1900-01-01 11:02:20\n",
      "11165  139.27 1900-01-01 11:02:21\n",
      "11166  139.43 1900-01-01 11:02:22\n",
      "11167  139.70 1900-01-01 11:02:23\n",
      "11168  140.12 1900-01-01 11:02:24\n",
      "\n",
      "[11169 rows x 2 columns]\n"
     ]
    },
    {
     "name": "stderr",
     "output_type": "stream",
     "text": [
      "C:\\Users\\asus\\AppData\\Local\\Temp\\ipykernel_37016\\378443653.py:13: DeprecationWarning: datetime.datetime.utcfromtimestamp() is deprecated and scheduled for removal in a future version. Use timezone-aware objects to represent datetimes in UTC: datetime.datetime.fromtimestamp(timestamp, datetime.UTC).\n",
      "  utc_time = datetime.utcfromtimestamp(unix_timestamp)\n"
     ]
    }
   ],
   "source": [
    "process(data_mt1_dir[0])"
   ]
  },
  {
   "cell_type": "code",
   "execution_count": null,
   "id": "160400d1-2b24-4519-bbb4-5a90ac76435b",
   "metadata": {},
   "outputs": [],
   "source": []
  }
 ],
 "metadata": {
  "kernelspec": {
   "display_name": "Python [conda env:.conda-deepL] *",
   "language": "python",
   "name": "conda-env-.conda-deepL-py"
  },
  "language_info": {
   "codemirror_mode": {
    "name": "ipython",
    "version": 3
   },
   "file_extension": ".py",
   "mimetype": "text/x-python",
   "name": "python",
   "nbconvert_exporter": "python",
   "pygments_lexer": "ipython3",
   "version": "3.12.8"
  }
 },
 "nbformat": 4,
 "nbformat_minor": 5
}
