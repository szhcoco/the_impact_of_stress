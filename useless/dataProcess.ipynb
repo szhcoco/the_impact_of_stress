{
 "cells": [
  {
   "cell_type": "code",
   "execution_count": 8,
   "metadata": {},
   "outputs": [],
   "source": [
    "import numpy as np\n",
    "import pandas as pd"
   ]
  },
  {
   "cell_type": "code",
   "execution_count": 5,
   "metadata": {},
   "outputs": [],
   "source": [
    "# # add 0.25 to eda\n",
    "# for test_type in ['Midterm 1', 'Midterm 2', 'Final']:\n",
    "#     for i in range(1, 11):\n",
    "#         test_eda = pd.read_csv(f'Data/S{i}_processed/{test_type}/EDA.csv')[['EDA', 'timestamp', 'period']]\n",
    "#         test_eda['time_seconds'] = (test_eda.index)*0.25\n",
    "#         test_eda.to_csv(f'Data/S{i}_processed/{test_type}/EDA.csv')\n",
    "\n",
    "#         test_hr = pd.read_csv(f'Data/S{i}_processed/{test_type}/HR.csv')[['HR', 'timestamp', 'period']]\n",
    "#         test_hr['time_seconds'] = test_hr.index\n",
    "#         test_hr.to_csv(f'Data/S{i}_processed/{test_type}/HR.csv')"
   ]
  },
  {
   "cell_type": "code",
   "execution_count": 6,
   "metadata": {},
   "outputs": [],
   "source": [
    "# add grade dataset\n",
    "grades = pd.DataFrame({\n",
    "    'students': ['S01', 'S02','S03','S04','S05','S06','S07','S08','S09','S10'],\n",
    "    'Midterm_1': [78, 82, 77, 75, 67, 71, 64, 92, 80, 89],\n",
    "    'Midterm_2': [82, 85, 90, 77, 77, 64, 33, 88, 39, 64],\n",
    "    'Final': [182, 180, 188, 149, 157, 175, 110, 184, 126, 116],\n",
    "})\n",
    "\n",
    "grades\n",
    "grades.to_csv('grades.csv', index=False)"
   ]
  },
  {
   "cell_type": "code",
   "execution_count": 7,
   "metadata": {},
   "outputs": [
    {
     "ename": "ParserError",
     "evalue": "Error tokenizing data. C error: Calling read(nbytes) on source failed. Try engine='python'.",
     "output_type": "error",
     "traceback": [
      "\u001b[0;31m---------------------------------------------------------------------------\u001b[0m",
      "\u001b[0;31mParserError\u001b[0m                               Traceback (most recent call last)",
      "Cell \u001b[0;32mIn[7], line 3\u001b[0m\n\u001b[1;32m      1\u001b[0m \u001b[38;5;28;01mfor\u001b[39;00m test_type \u001b[38;5;129;01min\u001b[39;00m [\u001b[38;5;124m'\u001b[39m\u001b[38;5;124mMidterm 1\u001b[39m\u001b[38;5;124m'\u001b[39m, \u001b[38;5;124m'\u001b[39m\u001b[38;5;124mMidterm 2\u001b[39m\u001b[38;5;124m'\u001b[39m, \u001b[38;5;124m'\u001b[39m\u001b[38;5;124mFinal\u001b[39m\u001b[38;5;124m'\u001b[39m]:\n\u001b[1;32m      2\u001b[0m     \u001b[38;5;28;01mfor\u001b[39;00m i \u001b[38;5;129;01min\u001b[39;00m \u001b[38;5;28mrange\u001b[39m(\u001b[38;5;241m1\u001b[39m, \u001b[38;5;241m11\u001b[39m):\n\u001b[0;32m----> 3\u001b[0m         ACC \u001b[38;5;241m=\u001b[39m \u001b[43mpd\u001b[49m\u001b[38;5;241;43m.\u001b[39;49m\u001b[43mread_csv\u001b[49m\u001b[43m(\u001b[49m\u001b[38;5;124;43mf\u001b[39;49m\u001b[38;5;124;43m'\u001b[39;49m\u001b[38;5;124;43mdataset/S\u001b[39;49m\u001b[38;5;132;43;01m{\u001b[39;49;00m\u001b[43mi\u001b[49m\u001b[38;5;132;43;01m}\u001b[39;49;00m\u001b[38;5;124;43m_processed/\u001b[39;49m\u001b[38;5;132;43;01m{\u001b[39;49;00m\u001b[43mtest_type\u001b[49m\u001b[38;5;132;43;01m}\u001b[39;49;00m\u001b[38;5;124;43m/ACC.csv\u001b[39;49m\u001b[38;5;124;43m'\u001b[39;49m\u001b[43m)\u001b[49m[[\u001b[38;5;124m'\u001b[39m\u001b[38;5;124mx\u001b[39m\u001b[38;5;124m'\u001b[39m, \u001b[38;5;124m'\u001b[39m\u001b[38;5;124my\u001b[39m\u001b[38;5;124m'\u001b[39m, \u001b[38;5;124m'\u001b[39m\u001b[38;5;124mz\u001b[39m\u001b[38;5;124m'\u001b[39m, \u001b[38;5;124m'\u001b[39m\u001b[38;5;124mtimestamp\u001b[39m\u001b[38;5;124m'\u001b[39m, \u001b[38;5;124m'\u001b[39m\u001b[38;5;124mperiod\u001b[39m\u001b[38;5;124m'\u001b[39m, \u001b[38;5;124m'\u001b[39m\u001b[38;5;124mtime_seconds\u001b[39m\u001b[38;5;124m'\u001b[39m]]\n\u001b[1;32m      4\u001b[0m         ACC[\u001b[38;5;124m'\u001b[39m\u001b[38;5;124mACC\u001b[39m\u001b[38;5;124m'\u001b[39m] \u001b[38;5;241m=\u001b[39m np\u001b[38;5;241m.\u001b[39msqrt(np\u001b[38;5;241m.\u001b[39msquare(ACC[\u001b[38;5;124m'\u001b[39m\u001b[38;5;124mx\u001b[39m\u001b[38;5;124m'\u001b[39m])\u001b[38;5;241m+\u001b[39mnp\u001b[38;5;241m.\u001b[39msquare(ACC[\u001b[38;5;124m'\u001b[39m\u001b[38;5;124my\u001b[39m\u001b[38;5;124m'\u001b[39m])\u001b[38;5;241m+\u001b[39mnp\u001b[38;5;241m.\u001b[39msquare(ACC[\u001b[38;5;124m'\u001b[39m\u001b[38;5;124mz\u001b[39m\u001b[38;5;124m'\u001b[39m]))\n\u001b[1;32m      5\u001b[0m         ACC\u001b[38;5;241m.\u001b[39mto_csv(\u001b[38;5;124mf\u001b[39m\u001b[38;5;124m'\u001b[39m\u001b[38;5;124mdataset/S\u001b[39m\u001b[38;5;132;01m{\u001b[39;00mi\u001b[38;5;132;01m}\u001b[39;00m\u001b[38;5;124m_processed/\u001b[39m\u001b[38;5;132;01m{\u001b[39;00mtest_type\u001b[38;5;132;01m}\u001b[39;00m\u001b[38;5;124m/ACC.csv\u001b[39m\u001b[38;5;124m'\u001b[39m, index\u001b[38;5;241m=\u001b[39m\u001b[38;5;28;01mFalse\u001b[39;00m)\n",
      "File \u001b[0;32m/Library/Frameworks/Python.framework/Versions/3.10/lib/python3.10/site-packages/pandas/io/parsers/readers.py:1026\u001b[0m, in \u001b[0;36mread_csv\u001b[0;34m(filepath_or_buffer, sep, delimiter, header, names, index_col, usecols, dtype, engine, converters, true_values, false_values, skipinitialspace, skiprows, skipfooter, nrows, na_values, keep_default_na, na_filter, verbose, skip_blank_lines, parse_dates, infer_datetime_format, keep_date_col, date_parser, date_format, dayfirst, cache_dates, iterator, chunksize, compression, thousands, decimal, lineterminator, quotechar, quoting, doublequote, escapechar, comment, encoding, encoding_errors, dialect, on_bad_lines, delim_whitespace, low_memory, memory_map, float_precision, storage_options, dtype_backend)\u001b[0m\n\u001b[1;32m   1013\u001b[0m kwds_defaults \u001b[38;5;241m=\u001b[39m _refine_defaults_read(\n\u001b[1;32m   1014\u001b[0m     dialect,\n\u001b[1;32m   1015\u001b[0m     delimiter,\n\u001b[0;32m   (...)\u001b[0m\n\u001b[1;32m   1022\u001b[0m     dtype_backend\u001b[38;5;241m=\u001b[39mdtype_backend,\n\u001b[1;32m   1023\u001b[0m )\n\u001b[1;32m   1024\u001b[0m kwds\u001b[38;5;241m.\u001b[39mupdate(kwds_defaults)\n\u001b[0;32m-> 1026\u001b[0m \u001b[38;5;28;01mreturn\u001b[39;00m \u001b[43m_read\u001b[49m\u001b[43m(\u001b[49m\u001b[43mfilepath_or_buffer\u001b[49m\u001b[43m,\u001b[49m\u001b[43m \u001b[49m\u001b[43mkwds\u001b[49m\u001b[43m)\u001b[49m\n",
      "File \u001b[0;32m/Library/Frameworks/Python.framework/Versions/3.10/lib/python3.10/site-packages/pandas/io/parsers/readers.py:626\u001b[0m, in \u001b[0;36m_read\u001b[0;34m(filepath_or_buffer, kwds)\u001b[0m\n\u001b[1;32m    623\u001b[0m     \u001b[38;5;28;01mreturn\u001b[39;00m parser\n\u001b[1;32m    625\u001b[0m \u001b[38;5;28;01mwith\u001b[39;00m parser:\n\u001b[0;32m--> 626\u001b[0m     \u001b[38;5;28;01mreturn\u001b[39;00m \u001b[43mparser\u001b[49m\u001b[38;5;241;43m.\u001b[39;49m\u001b[43mread\u001b[49m\u001b[43m(\u001b[49m\u001b[43mnrows\u001b[49m\u001b[43m)\u001b[49m\n",
      "File \u001b[0;32m/Library/Frameworks/Python.framework/Versions/3.10/lib/python3.10/site-packages/pandas/io/parsers/readers.py:1923\u001b[0m, in \u001b[0;36mTextFileReader.read\u001b[0;34m(self, nrows)\u001b[0m\n\u001b[1;32m   1916\u001b[0m nrows \u001b[38;5;241m=\u001b[39m validate_integer(\u001b[38;5;124m\"\u001b[39m\u001b[38;5;124mnrows\u001b[39m\u001b[38;5;124m\"\u001b[39m, nrows)\n\u001b[1;32m   1917\u001b[0m \u001b[38;5;28;01mtry\u001b[39;00m:\n\u001b[1;32m   1918\u001b[0m     \u001b[38;5;66;03m# error: \"ParserBase\" has no attribute \"read\"\u001b[39;00m\n\u001b[1;32m   1919\u001b[0m     (\n\u001b[1;32m   1920\u001b[0m         index,\n\u001b[1;32m   1921\u001b[0m         columns,\n\u001b[1;32m   1922\u001b[0m         col_dict,\n\u001b[0;32m-> 1923\u001b[0m     ) \u001b[38;5;241m=\u001b[39m \u001b[38;5;28;43mself\u001b[39;49m\u001b[38;5;241;43m.\u001b[39;49m\u001b[43m_engine\u001b[49m\u001b[38;5;241;43m.\u001b[39;49m\u001b[43mread\u001b[49m\u001b[43m(\u001b[49m\u001b[43m  \u001b[49m\u001b[38;5;66;43;03m# type: ignore[attr-defined]\u001b[39;49;00m\n\u001b[1;32m   1924\u001b[0m \u001b[43m        \u001b[49m\u001b[43mnrows\u001b[49m\n\u001b[1;32m   1925\u001b[0m \u001b[43m    \u001b[49m\u001b[43m)\u001b[49m\n\u001b[1;32m   1926\u001b[0m \u001b[38;5;28;01mexcept\u001b[39;00m \u001b[38;5;167;01mException\u001b[39;00m:\n\u001b[1;32m   1927\u001b[0m     \u001b[38;5;28mself\u001b[39m\u001b[38;5;241m.\u001b[39mclose()\n",
      "File \u001b[0;32m/Library/Frameworks/Python.framework/Versions/3.10/lib/python3.10/site-packages/pandas/io/parsers/c_parser_wrapper.py:234\u001b[0m, in \u001b[0;36mCParserWrapper.read\u001b[0;34m(self, nrows)\u001b[0m\n\u001b[1;32m    232\u001b[0m \u001b[38;5;28;01mtry\u001b[39;00m:\n\u001b[1;32m    233\u001b[0m     \u001b[38;5;28;01mif\u001b[39;00m \u001b[38;5;28mself\u001b[39m\u001b[38;5;241m.\u001b[39mlow_memory:\n\u001b[0;32m--> 234\u001b[0m         chunks \u001b[38;5;241m=\u001b[39m \u001b[38;5;28;43mself\u001b[39;49m\u001b[38;5;241;43m.\u001b[39;49m\u001b[43m_reader\u001b[49m\u001b[38;5;241;43m.\u001b[39;49m\u001b[43mread_low_memory\u001b[49m\u001b[43m(\u001b[49m\u001b[43mnrows\u001b[49m\u001b[43m)\u001b[49m\n\u001b[1;32m    235\u001b[0m         \u001b[38;5;66;03m# destructive to chunks\u001b[39;00m\n\u001b[1;32m    236\u001b[0m         data \u001b[38;5;241m=\u001b[39m _concatenate_chunks(chunks)\n",
      "File \u001b[0;32mparsers.pyx:838\u001b[0m, in \u001b[0;36mpandas._libs.parsers.TextReader.read_low_memory\u001b[0;34m()\u001b[0m\n",
      "File \u001b[0;32mparsers.pyx:905\u001b[0m, in \u001b[0;36mpandas._libs.parsers.TextReader._read_rows\u001b[0;34m()\u001b[0m\n",
      "File \u001b[0;32mparsers.pyx:874\u001b[0m, in \u001b[0;36mpandas._libs.parsers.TextReader._tokenize_rows\u001b[0;34m()\u001b[0m\n",
      "File \u001b[0;32mparsers.pyx:891\u001b[0m, in \u001b[0;36mpandas._libs.parsers.TextReader._check_tokenize_status\u001b[0;34m()\u001b[0m\n",
      "File \u001b[0;32mparsers.pyx:2061\u001b[0m, in \u001b[0;36mpandas._libs.parsers.raise_parser_error\u001b[0;34m()\u001b[0m\n",
      "\u001b[0;31mParserError\u001b[0m: Error tokenizing data. C error: Calling read(nbytes) on source failed. Try engine='python'."
     ]
    }
   ],
   "source": [
    "# for test_type in ['Midterm 1', 'Midterm 2', 'Final']:\n",
    "#     for i in range(1, 11):\n",
    "#         ACC = pd.read_csv(f'dataset/S{i}_processed/{test_type}/ACC.csv')[['x', 'y', 'z', 'timestamp', 'period', 'time_seconds']]\n",
    "#         ACC['ACC'] = np.sqrt(np.square(ACC['x'])+np.square(ACC['y'])+np.square(ACC['z']))\n",
    "#         ACC.to_csv(f'dataset/S{i}_processed/{test_type}/ACC.csv', index=False)"
   ]
  },
  {
   "cell_type": "code",
   "execution_count": 16,
   "metadata": {},
   "outputs": [],
   "source": [
    "# for test_type in ['Midterm 1', 'Midterm 2', 'Final']:\n",
    "#     tests = (pd.read_csv(f'dataset/S1_processed/{test_type}/HR.csv')[['HR', 'time_seconds']]).rename({'HR':'HR1'}, axis=1)\n",
    "#     for i in range(2, 11):\n",
    "#         new_test = (pd.read_csv(f'dataset/S{i}_processed/{test_type}/HR.csv')[['HR', 'time_seconds']]).rename({'HR':f'HR{i}'}, axis=1)\n",
    "#         tests = tests.merge(new_test, on='time_seconds')\n",
    "#     test_summary = tests.set_index('time_seconds')\n",
    "#     test_summary['HR_min'] = test_summary.min(axis=1)\n",
    "#     test_summary['HR_max'] = test_summary.max(axis=1)\n",
    "#     test_summary = test_summary.reset_index()\n",
    "#     test_summary = test_summary[['time_seconds', 'HR_min', 'HR_max']]\n",
    "\n",
    "#     test_summary.to_csv(f'HR_min_max_{test_type}.csv', index=False)"
   ]
  },
  {
   "cell_type": "code",
   "execution_count": 17,
   "metadata": {},
   "outputs": [],
   "source": [
    "for test_type in ['Midterm 1', 'Midterm 2', 'Final']:\n",
    "    tests = (pd.read_csv(f'dataset/S1_processed/{test_type}/TEMP.csv')[['TEMP', 'time_seconds']]).rename({'TEMP':'TEMP1'}, axis=1)\n",
    "    for i in range(2, 11):\n",
    "        new_test = (pd.read_csv(f'dataset/S{i}_processed/{test_type}/TEMP.csv')[['TEMP', 'time_seconds']]).rename({'TEMP':f'TEMP{i}'}, axis=1)\n",
    "        tests = tests.merge(new_test, on='time_seconds')\n",
    "    test_summary = tests.set_index('time_seconds')\n",
    "    test_summary['TEMP_min'] = test_summary.min(axis=1)\n",
    "    test_summary['TEMP_max'] = test_summary.max(axis=1)\n",
    "    test_summary = test_summary.reset_index()\n",
    "    test_summary = test_summary[['time_seconds', 'TEMP_min', 'TEMP_max']]\n",
    "\n",
    "    test_summary.to_csv(f'TEMP_min_max_{test_type}.csv', index=False)"
   ]
  },
  {
   "cell_type": "code",
   "execution_count": 18,
   "metadata": {},
   "outputs": [],
   "source": [
    "for test_type in ['Midterm 1', 'Midterm 2', 'Final']:\n",
    "    tests = (pd.read_csv(f'dataset/S1_processed/{test_type}/ACC.csv')[['ACC', 'time_seconds']]).rename({'ACC':'ACC1'}, axis=1)\n",
    "    for i in range(2, 11):\n",
    "        new_test = (pd.read_csv(f'dataset/S{i}_processed/{test_type}/ACC.csv')[['ACC', 'time_seconds']]).rename({'ACC':f'ACC{i}'}, axis=1)\n",
    "        tests = tests.merge(new_test, on='time_seconds')\n",
    "    test_summary = tests.set_index('time_seconds')\n",
    "    test_summary['ACC_min'] = test_summary.min(axis=1)\n",
    "    test_summary['ACC_max'] = test_summary.max(axis=1)\n",
    "    test_summary = test_summary.reset_index()\n",
    "    test_summary = test_summary[['time_seconds', 'ACC_min', 'ACC_max']]\n",
    "\n",
    "    test_summary.to_csv(f'ACC_min_max_{test_type}.csv', index=False)"
   ]
  },
  {
   "cell_type": "code",
   "execution_count": 14,
   "metadata": {},
   "outputs": [],
   "source": [
    "# calculate the best fit line for the heart rate data\n",
    "\n",
    "tests = ['Midterm 1', 'Midterm 2', 'Final']\n",
    "students = range(1,11)\n",
    "results = []\n",
    "\n",
    "for student in students:\n",
    "    for test in tests:\n",
    "        path = f'dataset/S{student}_processed/{test}/HR.csv'\n",
    "        df = pd.read_csv(path)\n",
    "\n",
    "        intest_hr = df[df['period'].str.lower() == 'in-test']['HR']\n",
    "        avg_hr = intest_hr.mean()\n",
    "\n",
    "        results.append({\n",
    "            'student': student,\n",
    "            'test': test,\n",
    "            'avg_intest_hr': avg_hr\n",
    "        })\n"
   ]
  },
  {
   "cell_type": "code",
   "execution_count": 15,
   "metadata": {},
   "outputs": [
    {
     "data": {
      "text/plain": [
       "[{'student': 1,\n",
       "  'test': 'Midterm 1',\n",
       "  'avg_intest_hr': np.float64(87.91728753934457)},\n",
       " {'student': 1,\n",
       "  'test': 'Midterm 2',\n",
       "  'avg_intest_hr': np.float64(100.51858359563043)},\n",
       " {'student': 1,\n",
       "  'test': 'Final',\n",
       "  'avg_intest_hr': np.float64(93.20378205721693)},\n",
       " {'student': 2,\n",
       "  'test': 'Midterm 1',\n",
       "  'avg_intest_hr': np.float64(90.12922792075541)},\n",
       " {'student': 2,\n",
       "  'test': 'Midterm 2',\n",
       "  'avg_intest_hr': np.float64(100.37946676541381)},\n",
       " {'student': 2,\n",
       "  'test': 'Final',\n",
       "  'avg_intest_hr': np.float64(105.03199981483195)},\n",
       " {'student': 3,\n",
       "  'test': 'Midterm 1',\n",
       "  'avg_intest_hr': np.float64(87.05715608220702)},\n",
       " {'student': 3,\n",
       "  'test': 'Midterm 2',\n",
       "  'avg_intest_hr': np.float64(90.59493427143121)},\n",
       " {'student': 3,\n",
       "  'test': 'Final',\n",
       "  'avg_intest_hr': np.float64(86.25237848347376)},\n",
       " {'student': 4,\n",
       "  'test': 'Midterm 1',\n",
       "  'avg_intest_hr': np.float64(93.86573967783744)},\n",
       " {'student': 4,\n",
       "  'test': 'Midterm 2',\n",
       "  'avg_intest_hr': np.float64(81.34383632660618)},\n",
       " {'student': 4,\n",
       "  'test': 'Final',\n",
       "  'avg_intest_hr': np.float64(83.99390704564394)},\n",
       " {'student': 5,\n",
       "  'test': 'Midterm 1',\n",
       "  'avg_intest_hr': np.float64(91.07830216626552)},\n",
       " {'student': 5,\n",
       "  'test': 'Midterm 2',\n",
       "  'avg_intest_hr': np.float64(107.66458618774303)},\n",
       " {'student': 5,\n",
       "  'test': 'Final',\n",
       "  'avg_intest_hr': np.float64(92.19235348578836)},\n",
       " {'student': 6,\n",
       "  'test': 'Midterm 1',\n",
       "  'avg_intest_hr': np.float64(95.39008887243104)},\n",
       " {'student': 6,\n",
       "  'test': 'Midterm 2',\n",
       "  'avg_intest_hr': np.float64(79.2484947231994)},\n",
       " {'student': 6,\n",
       "  'test': 'Final',\n",
       "  'avg_intest_hr': np.float64(75.42209702805296)},\n",
       " {'student': 7,\n",
       "  'test': 'Midterm 1',\n",
       "  'avg_intest_hr': np.float64(97.8863395667469)},\n",
       " {'student': 7,\n",
       "  'test': 'Midterm 2',\n",
       "  'avg_intest_hr': np.float64(84.7454675060174)},\n",
       " {'student': 7,\n",
       "  'test': 'Final',\n",
       "  'avg_intest_hr': np.float64(85.96425145819832)},\n",
       " {'student': 8,\n",
       "  'test': 'Midterm 1',\n",
       "  'avg_intest_hr': np.float64(99.70373079059434)},\n",
       " {'student': 8,\n",
       "  'test': 'Midterm 2',\n",
       "  'avg_intest_hr': np.float64(101.80296796889466)},\n",
       " {'student': 8,\n",
       "  'test': 'Final',\n",
       "  'avg_intest_hr': np.float64(86.89063512637719)},\n",
       " {'student': 9,\n",
       "  'test': 'Midterm 1',\n",
       "  'avg_intest_hr': np.float64(92.37852990187002)},\n",
       " {'student': 9,\n",
       "  'test': 'Midterm 2',\n",
       "  'avg_intest_hr': np.float64(91.76984817626366)},\n",
       " {'student': 9,\n",
       "  'test': 'Final',\n",
       "  'avg_intest_hr': np.float64(84.77306360522175)},\n",
       " {'student': 10,\n",
       "  'test': 'Midterm 1',\n",
       "  'avg_intest_hr': np.float64(113.92829105721162)},\n",
       " {'student': 10,\n",
       "  'test': 'Midterm 2',\n",
       "  'avg_intest_hr': np.float64(86.17138678022587)},\n",
       " {'student': 10,\n",
       "  'test': 'Final',\n",
       "  'avg_intest_hr': np.float64(82.9052772891399)}]"
      ]
     },
     "execution_count": 15,
     "metadata": {},
     "output_type": "execute_result"
    }
   ],
   "source": [
    "results"
   ]
  },
  {
   "cell_type": "code",
   "execution_count": null,
   "metadata": {},
   "outputs": [],
   "source": []
  }
 ],
 "metadata": {
  "kernelspec": {
   "display_name": "Python 3",
   "language": "python",
   "name": "python3"
  },
  "language_info": {
   "codemirror_mode": {
    "name": "ipython",
    "version": 3
   },
   "file_extension": ".py",
   "mimetype": "text/x-python",
   "name": "python",
   "nbconvert_exporter": "python",
   "pygments_lexer": "ipython3",
   "version": "3.10.1"
  }
 },
 "nbformat": 4,
 "nbformat_minor": 2
}
