{
 "cells": [
  {
   "cell_type": "code",
   "execution_count": 1,
   "metadata": {},
   "outputs": [],
   "source": [
    "import numpy as np\n",
    "import pandas as pd"
   ]
  },
  {
   "cell_type": "code",
   "execution_count": null,
   "metadata": {},
   "outputs": [
    {
     "data": {
      "text/plain": [
       "Midterm_1     92\n",
       "Midterm_2     90\n",
       "Final        188\n",
       "dtype: int64"
      ]
     },
     "execution_count": 4,
     "metadata": {},
     "output_type": "execute_result"
    }
   ],
   "source": [
    "grades = pd.read_csv('grades.csv')\n",
    "all_max = grades[['Midterm_1', 'Midterm_2', 'Final']].max()\n",
    "all_min = grades[['Midterm_1', 'Midterm_2', 'Final']].min()"
   ]
  },
  {
   "cell_type": "code",
   "execution_count": 18,
   "metadata": {},
   "outputs": [],
   "source": [
    "for feature in ['ACC', 'EDA', 'HR', 'TEMP']:\n",
    "    stats = pd.DataFrame(columns=['student', 'test', 'max_time', 'min_time'])\n",
    "    for i in range(1, 11):\n",
    "        for test in ['Midterm 1', 'Midterm 2', 'Final']:\n",
    "            current_csv = pd.read_csv(f'dataset/S{i}_processed/{test}/{feature}.csv')\n",
    "            current_csv = current_csv[current_csv['time_seconds']>=0]\n",
    "            max_time = current_csv.loc[current_csv[feature].idxmax()]['time_seconds']\n",
    "            max_time = f'{int(max_time//60)}min{int(max_time%60)}s'\n",
    "            min_time = current_csv.loc[current_csv[feature].idxmin()]['time_seconds']\n",
    "            min_time = f'{int(min_time//60)}min{int(min_time%60)}s'\n",
    "            stats.loc[len(stats)] = [f'S{i}', test, max_time, min_time]\n",
    "    stats.to_csv(f'dataset/{feature}_stats.csv', index=False)\n"
   ]
  },
  {
   "cell_type": "code",
   "execution_count": null,
   "metadata": {},
   "outputs": [
    {
     "data": {
      "text/plain": [
       "15"
      ]
     },
     "execution_count": 14,
     "metadata": {},
     "output_type": "execute_result"
    }
   ],
   "source": [
    "data = pd.read_csv('dataset/S1_processed/Midterm 1/HR.csv')\n",
    "data.loc[data['HR'].idxmax()]['time_seconds']//60\n"
   ]
  }
 ],
 "metadata": {
  "kernelspec": {
   "display_name": "Python 3",
   "language": "python",
   "name": "python3"
  },
  "language_info": {
   "codemirror_mode": {
    "name": "ipython",
    "version": 3
   },
   "file_extension": ".py",
   "mimetype": "text/x-python",
   "name": "python",
   "nbconvert_exporter": "python",
   "pygments_lexer": "ipython3",
   "version": "3.11.4"
  }
 },
 "nbformat": 4,
 "nbformat_minor": 2
}
